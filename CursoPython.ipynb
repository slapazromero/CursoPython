{
  "nbformat": 4,
  "nbformat_minor": 0,
  "metadata": {
    "colab": {
      "provenance": [],
      "collapsed_sections": [],
      "authorship_tag": "ABX9TyMl6wf/+A04FLH3q3Th2vEi",
      "include_colab_link": true
    },
    "kernelspec": {
      "name": "python3",
      "display_name": "Python 3"
    },
    "language_info": {
      "name": "python"
    }
  },
  "cells": [
    {
      "cell_type": "markdown",
      "metadata": {
        "id": "view-in-github",
        "colab_type": "text"
      },
      "source": [
        "<a href=\"https://colab.research.google.com/github/slapazromero/CursoPython/blob/main/CursoPython.ipynb\" target=\"_parent\"><img src=\"https://colab.research.google.com/assets/colab-badge.svg\" alt=\"Open In Colab\"/></a>"
      ]
    },
    {
      "cell_type": "markdown",
      "source": [
        "# Learn Python 3 from Scratch\n",
        "\n",
        "## Introducción\n",
        "\n",
        "### ¿Que ese python?\n",
        "Python es un lenguaje de programacion interpretado y de alto nivel, ademas, es un lenguaje de proposito geeneral lo cual indica que se puede usar para una varidad de aplicaciones sin enfocarse en ningun aspecto de la programacion.\n",
        "\n",
        "## Tipos de datos y variables\n",
        "\n",
        "### Definición\n",
        "\n",
        "El tipo de datos de un elemento define el rango y el tipo de valores que puede guardar el elemento.\n",
        "\n",
        "### Tipos de datos de Python\n",
        "\n",
        "El lenguaje proporciona tres tipos de datos principales:\n",
        "\n",
        "- Número.\n",
        "- Strings.\n",
        "- Booleanos.\n",
        "\n",
        "### Variables\n",
        "\n",
        "Una variables es un nombre al cual se le puede asignar un valor.\n",
        "\n",
        "Para asignar un valor a una variable se usa el operador **=**.\n",
        "\n",
        "### Nomenclatura\n",
        "\n",
        "La nomenclatura usada en Python siguen las siguientes reglas.\n",
        "- Los nombres de las variables se pueden comenzar con mayuscula oo minuscula.\n",
        "- Los nombres son casesensitive es decir distingen entre Mayuscula y minuscula.\n",
        "- Los nombres puede contener numeros pero no al principio.\n",
        "- El caracter **_** puede aparecer en cualquier lugar del nombre.\n",
        "- No se permiten espacios. En su lugar, debemos usar snake_case para que los nombre sean mas legibles.\n",
        "- El noombre de las variables deben ser significativos.\n",
        "\n",
        "## Números\n",
        "\n",
        "Hay tres tipos principales de números en Python:\n",
        "\n",
        "- Integers(Enteros).\n",
        "- Folating-Point Numbers(Numeros de coma flotante).\n",
        "- Complex Numbers(Numeros Complejos).\n",
        "\n",
        "### Integers\n",
        "\n",
        "Compuesto por todos los numeros enteros posiitiivos y negativos.\n",
        "\n",
        "La memoria que ocupa el numero entero depende de su valor.\n",
        "\n",
        "Los numeros negativos comienzan con el signo **-**."
      ],
      "metadata": {
        "id": "kvBx7Ssl41jC"
      }
    },
    {
      "cell_type": "code",
      "source": [
        "print( 190 )    # Entero positivo\n",
        "print( -2022 )  # Entero negativo\n",
        "\n",
        "num = 12        # Asignacion de entero positivo\n",
        "print( num )\n",
        "\n",
        "num = -40       # Asignacion de entero negativo\n",
        "print( num )"
      ],
      "metadata": {
        "id": "ynTBCZN7CtRb"
      },
      "execution_count": null,
      "outputs": []
    },
    {
      "cell_type": "markdown",
      "source": [
        "### Floating Point Numbers\n",
        "Los numeros floats, se refiiren a numeros decimales positivos o negativos.\n",
        "\n",
        "Python nos permite crear numeros decimales muy altos para consegir mayor precision.\n",
        "\n",
        "Los float ocupan 24 bytes de memoria.\n",
        "\n",
        "En python **5** se considera un entero y **5.0** un float."
      ],
      "metadata": {
        "id": "VA_Eg7WRDYey"
      }
    },
    {
      "cell_type": "code",
      "source": [
        "print( 1.0000000004 ) # Un float positivo\n",
        "print( -4.9000002 )   # Un float negativo\n",
        "\n",
        "flt = 3.2222          # Asignacion de un float\n",
        "print( flt )"
      ],
      "metadata": {
        "colab": {
          "base_uri": "https://localhost:8080/"
        },
        "id": "s5IC0AOCEERK",
        "outputId": "436ad7c1-c1da-4e41-a1ec-60d3a3ff8cf3"
      },
      "execution_count": 2,
      "outputs": [
        {
          "output_type": "stream",
          "name": "stdout",
          "text": [
            "1.0000000004\n",
            "-4.9000002\n",
            "3.2222\n"
          ]
        }
      ]
    },
    {
      "cell_type": "markdown",
      "source": [
        "### Complex numbers\n",
        "\n",
        "Python admite numeros complejos.\n",
        "\n",
        "Para crear un numero complejo se usa la funcion **complex()**.\n",
        "\n",
        "Esta requiere dos valores el primero corresponde a la parte real y el segundo a la imaginaria.\n",
        "\n",
        "```Python\n",
        "complex(real, imaginary)\n",
        "```\n",
        "\n",
        "Un numero complejo suele ocupar 32 bytes de memoria."
      ],
      "metadata": {
        "id": "gNhZW_RuEnyN"
      }
    },
    {
      "cell_type": "code",
      "source": [
        "print(complex(43, 78))      # Representacion del numero complejo (43 + 78j)\n",
        "print(complex(5.7, -12,4))  # Representacion del numero complejo (5-7 - 12.4j)\n",
        "\n",
        "complex_1 = complex(3, 5)\n",
        "complex_2 = complex(4.2, -5)\n",
        "print(complex_1)\n",
        "print(complex_2)"
      ],
      "metadata": {
        "id": "ex9vMU0xF5fz"
      },
      "execution_count": null,
      "outputs": []
    },
    {
      "cell_type": "markdown",
      "source": [
        "## Booleans\n",
        "\n",
        "El tipo de datoo booleano (bool) nos permite elegir entre dos valores\n",
        "- True\n",
        "- False\n",
        "\n",
        "Se usa para determinar si la logica de una expresion o una comparacion es correcta."
      ],
      "metadata": {
        "id": "Inc1ZYp6G5KL"
      }
    },
    {
      "cell_type": "code",
      "source": [
        "print(True)\n",
        "\n",
        "f_bool = False\n",
        "print(f_bool)"
      ],
      "metadata": {
        "id": "sWmCPb17IuhU"
      },
      "execution_count": null,
      "outputs": []
    },
    {
      "cell_type": "markdown",
      "source": [
        "## String\n",
        "\n",
        "Un string es una coleccion de caracteres encerrados entre comillas simples, dobles o triples."
      ],
      "metadata": {
        "id": "eED9KRttI6B3"
      }
    },
    {
      "cell_type": "code",
      "source": [
        "print(\"Comillas dobles\")\n",
        "\n",
        "got = 'Comillas simples'\n",
        "print(got)\n",
        "print('$')\n",
        "\n",
        "empty = ''\n",
        "print(empty)\n",
        "\n",
        "multiple_lines = '''Con tres comillas\n",
        "puedes formar string\n",
        "de multiples lineas'''\n",
        "print(multiple_lines)"
      ],
      "metadata": {
        "id": "yTkJMOXqKC-5"
      },
      "execution_count": null,
      "outputs": []
    },
    {
      "cell_type": "markdown",
      "source": [
        "### The Length of a String\n",
        "\n",
        "La longitud de una cadena se puede optener usando **len()**.\n"
      ],
      "metadata": {
        "id": "MxqG4Qh3K8Ls"
      }
    },
    {
      "cell_type": "code",
      "source": [
        "random_string = 'Cadema aleatoria'\n",
        "print(len(random_string))"
      ],
      "metadata": {
        "id": "2-f7BnfxLf4x"
      },
      "execution_count": null,
      "outputs": []
    },
    {
      "cell_type": "markdown",
      "source": [
        "### Indexing\n",
        "\n",
        "En una cadena, a cada caracter se le asigna un indice basao en su posición.\n",
        "\n",
        "En python se indexa desde **n-1** siendo **n** la longitud de la cadena siendo el primer caracter 0.\n",
        "\n",
        "### Accessing Characters\n",
        "\n",
        "Se puede acceder a cada caracter de una cadena utilizando su indice entre corchetes.\n",
        "\n",
        "Si el numero que se introduce es superior al limite de la cadena da un error."
      ],
      "metadata": {
        "id": "sTPHHzHJL6Yy"
      }
    },
    {
      "cell_type": "code",
      "source": [
        "cadena =  'Cadena aleatoria'\n",
        "\n",
        "first = cadena[0]\n",
        "print(first)\n",
        "\n",
        "space = cadena[6]\n",
        "print(space)\n",
        "\n",
        "end = cadena[len(cadena) - 1]\n",
        "print(end)"
      ],
      "metadata": {
        "id": "wE-UqigrN9Ja"
      },
      "execution_count": null,
      "outputs": []
    },
    {
      "cell_type": "markdown",
      "source": [
        "#### Reverse Indexing\n",
        "\n",
        "Tambien podemos hacer indexacion usando indices negativos.\n",
        "\n",
        "Estos comienzann desde el extremo opuesto de la cadena, es decir, el indice **-1** corresponde al ultimo caracter."
      ],
      "metadata": {
        "id": "duamad1QOhYP"
      }
    },
    {
      "cell_type": "code",
      "source": [
        "cadena = 'Bruce Lee'\n",
        "print(cadena[-1])\n",
        "print(cadena[-5])"
      ],
      "metadata": {
        "id": "ZcomwwnjVOSL"
      },
      "execution_count": null,
      "outputs": []
    },
    {
      "cell_type": "markdown",
      "source": [
        "### String Immutability\n",
        "\n",
        "Una vez que asignamos un valor a una cadena, no podemos actualizarlo mas tarde."
      ],
      "metadata": {
        "id": "J6ajeeolVhQw"
      }
    },
    {
      "cell_type": "code",
      "source": [
        "cadena = 'Inmutable'\n",
        "cadena[0] = 'O'"
      ],
      "metadata": {
        "id": "x2X7HC4vWsB8"
      },
      "execution_count": null,
      "outputs": []
    },
    {
      "cell_type": "markdown",
      "source": [
        "Este TypeError se debe a que Python no permite la asignacion de elementos en el casos de cadenas.\n",
        "\n",
        "Asignar un nuevo valor a la variable no significa que haya cambiado el valor, si no el identificador."
      ],
      "metadata": {
        "id": "-H8QpUCnXCz7"
      }
    },
    {
      "cell_type": "code",
      "source": [
        "str1 = 'hola'\n",
        "print(id(str1))\n",
        "\n",
        "str1 = 'adios'\n",
        "print(id(str1))"
      ],
      "metadata": {
        "id": "C4IB3hkAXcnF"
      },
      "execution_count": null,
      "outputs": []
    },
    {
      "cell_type": "markdown",
      "source": [
        "## The None Keyword\n",
        "\n",
        "### Introduction to NoneType\n",
        "\n",
        "Python ofrece otro tipo de datos llamado **NoneType**. Solo tiene el valor None. Podemos asignar None a cualquier variable."
      ],
      "metadata": {
        "id": "7BHBCO6NXrOp"
      }
    },
    {
      "cell_type": "code",
      "source": [
        "val = None\n",
        "print(val)\n",
        "print (type(val))"
      ],
      "metadata": {
        "id": "J6wtQVkqZO8t"
      },
      "execution_count": null,
      "outputs": []
    },
    {
      "cell_type": "markdown",
      "source": [
        "### Important Points\n",
        "\n",
        "- **None** no es un valor predeterminado.\n",
        "- **None** no es lo mismo que **False**.\n",
        "- **None** no es una cadena vacía.\n",
        "- **None** no es 0.\n",
        "\n",
        "## String Slicing\n",
        "\n",
        "### Definición\n",
        "\n"
      ],
      "metadata": {
        "id": "u_JpX4KyZedv"
      }
    }
  ]
}