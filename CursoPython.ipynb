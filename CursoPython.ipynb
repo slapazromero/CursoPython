{
  "nbformat": 4,
  "nbformat_minor": 0,
  "metadata": {
    "colab": {
      "provenance": [],
      "collapsed_sections": [],
      "authorship_tag": "ABX9TyNAiZ+twmJNI8vRkCx4AMEx",
      "include_colab_link": true
    },
    "kernelspec": {
      "name": "python3",
      "display_name": "Python 3"
    },
    "language_info": {
      "name": "python"
    }
  },
  "cells": [
    {
      "cell_type": "markdown",
      "metadata": {
        "id": "view-in-github",
        "colab_type": "text"
      },
      "source": [
        "<a href=\"https://colab.research.google.com/github/slapazromero/CursoPython/blob/main/CursoPython.ipynb\" target=\"_parent\"><img src=\"https://colab.research.google.com/assets/colab-badge.svg\" alt=\"Open In Colab\"/></a>"
      ]
    },
    {
      "cell_type": "markdown",
      "source": [
        "# Learn Python 3 from Scratch\n",
        "\n",
        "## Introducción\n",
        "\n",
        "### ¿Que ese python?\n",
        "Python es un lenguaje de programacion interpretado y de alto nivel, ademas, es un lenguaje de proposito geeneral lo cual indica que se puede usar para una varidad de aplicaciones sin enfocarse en ningun aspecto de la programacion.\n",
        "\n",
        "## Tipos de datos y variables\n",
        "\n",
        "### Definición\n",
        "\n",
        "El tipo de datos de un elemento define el rango y el tipo de valores que puede guardar el elemento.\n",
        "\n",
        "### Tipos de datos de Python\n",
        "\n",
        "El lenguaje proporciona tres tipos de datos principales:\n",
        "\n",
        "- Número.\n",
        "- Strings.\n",
        "- Booleanos.\n",
        "\n",
        "### Variables\n",
        "\n",
        "Una variables es un nombre al cual se le puede asignar un valor.\n",
        "\n",
        "Para asignar un valor a una variable se usa el operador **=**.\n",
        "\n",
        "### Nomenclatura\n",
        "\n",
        "La nomenclatura usada en Python siguen las siguientes reglas.\n",
        "- Los nombres de las variables se pueden comenzar con mayuscula oo minuscula.\n",
        "- Los nombres son casesensitive es decir distingen entre Mayuscula y minuscula.\n",
        "- Los nombres puede contener numeros pero no al principio.\n",
        "- El caracter **_** puede aparecer en cualquier lugar del nombre.\n",
        "- No se permiten espacios. En su lugar, debemos usar snake_case para que los nombre sean mas legibles.\n",
        "- El noombre de las variables deben ser significativos.\n",
        "\n",
        "## Números\n",
        "\n",
        "Hay tres tipos principales de números en Python:\n",
        "\n",
        "- Integers(Enteros).\n",
        "- Folating-Point Numbers(Numeros de coma flotante).\n",
        "- Complex Numbers(Numeros Complejos).\n",
        "\n",
        "### Integers\n",
        "\n",
        "Compuesto por todos los numeros enteros posiitiivos y negativos.\n",
        "\n",
        "La memoria que ocupa el numero entero depende de su valor.\n",
        "\n",
        "Los numeros negativos comienzan con el signo **-**."
      ],
      "metadata": {
        "id": "kvBx7Ssl41jC"
      }
    },
    {
      "cell_type": "code",
      "source": [
        "print( 190 )    # Entero positivo\n",
        "print( -2022 )  # Entero negativo\n",
        "\n",
        "num = 12        # Asignacion de entero positivo\n",
        "print( num )\n",
        "\n",
        "num = -40       # Asignacion de entero negativo\n",
        "print( num )"
      ],
      "metadata": {
        "id": "ynTBCZN7CtRb"
      },
      "execution_count": null,
      "outputs": []
    },
    {
      "cell_type": "markdown",
      "source": [
        "### Floating Point Numbers\n",
        "Los numeros floats, se refiiren a numeros decimales positivos o negativos.\n",
        "\n",
        "Python nos permite crear numeros decimales muy altos para consegir mayor precision.\n",
        "\n",
        "Los float ocupan 24 bytes de memoria.\n",
        "\n",
        "En python **5** se considera un entero y **5.0** un float."
      ],
      "metadata": {
        "id": "VA_Eg7WRDYey"
      }
    },
    {
      "cell_type": "code",
      "source": [
        "print( 1.0000000004 ) # Un float positivo\n",
        "print( -4.9000002 )   # Un float negativo\n",
        "\n",
        "flt = 3.2222          # Asignacion de un float\n",
        "print( flt )"
      ],
      "metadata": {
        "colab": {
          "base_uri": "https://localhost:8080/"
        },
        "id": "s5IC0AOCEERK",
        "outputId": "436ad7c1-c1da-4e41-a1ec-60d3a3ff8cf3"
      },
      "execution_count": null,
      "outputs": [
        {
          "output_type": "stream",
          "name": "stdout",
          "text": [
            "1.0000000004\n",
            "-4.9000002\n",
            "3.2222\n"
          ]
        }
      ]
    },
    {
      "cell_type": "markdown",
      "source": [
        "### Complex numbers\n",
        "\n",
        "Python admite numeros complejos.\n",
        "\n",
        "Para crear un numero complejo se usa la funcion **complex()**.\n",
        "\n",
        "Esta requiere dos valores el primero corresponde a la parte real y el segundo a la imaginaria.\n",
        "\n",
        "```Python\n",
        "complex(real, imaginary)\n",
        "```\n",
        "\n",
        "Un numero complejo suele ocupar 32 bytes de memoria."
      ],
      "metadata": {
        "id": "gNhZW_RuEnyN"
      }
    },
    {
      "cell_type": "code",
      "source": [
        "print(complex(43, 78))      # Representacion del numero complejo (43 + 78j)\n",
        "print(complex(5.7, -12,4))  # Representacion del numero complejo (5-7 - 12.4j)\n",
        "\n",
        "complex_1 = complex(3, 5)\n",
        "complex_2 = complex(4.2, -5)\n",
        "print(complex_1)\n",
        "print(complex_2)"
      ],
      "metadata": {
        "id": "ex9vMU0xF5fz"
      },
      "execution_count": null,
      "outputs": []
    },
    {
      "cell_type": "markdown",
      "source": [
        "## Booleans\n",
        "\n",
        "El tipo de datoo booleano (bool) nos permite elegir entre dos valores\n",
        "- True\n",
        "- False\n",
        "\n",
        "Se usa para determinar si la logica de una expresion o una comparacion es correcta."
      ],
      "metadata": {
        "id": "Inc1ZYp6G5KL"
      }
    },
    {
      "cell_type": "code",
      "source": [
        "print(True)\n",
        "\n",
        "f_bool = False\n",
        "print(f_bool)"
      ],
      "metadata": {
        "id": "sWmCPb17IuhU"
      },
      "execution_count": null,
      "outputs": []
    },
    {
      "cell_type": "markdown",
      "source": [
        "## String\n",
        "\n",
        "Un string es una coleccion de caracteres encerrados entre comillas simples, dobles o triples."
      ],
      "metadata": {
        "id": "eED9KRttI6B3"
      }
    },
    {
      "cell_type": "code",
      "source": [
        "print(\"Comillas dobles\")\n",
        "\n",
        "got = 'Comillas simples'\n",
        "print(got)\n",
        "print('$')\n",
        "\n",
        "empty = ''\n",
        "print(empty)\n",
        "\n",
        "multiple_lines = '''Con tres comillas\n",
        "puedes formar string\n",
        "de multiples lineas'''\n",
        "print(multiple_lines)"
      ],
      "metadata": {
        "id": "yTkJMOXqKC-5"
      },
      "execution_count": null,
      "outputs": []
    },
    {
      "cell_type": "markdown",
      "source": [
        "### The Length of a String\n",
        "\n",
        "La longitud de una cadena se puede optener usando **len()**.\n"
      ],
      "metadata": {
        "id": "MxqG4Qh3K8Ls"
      }
    },
    {
      "cell_type": "code",
      "source": [
        "random_string = 'Cadema aleatoria'\n",
        "print(len(random_string))"
      ],
      "metadata": {
        "id": "2-f7BnfxLf4x"
      },
      "execution_count": null,
      "outputs": []
    },
    {
      "cell_type": "markdown",
      "source": [
        "### Indexing\n",
        "\n",
        "En una cadena, a cada caracter se le asigna un indice basao en su posición.\n",
        "\n",
        "En python se indexa desde **n-1** siendo **n** la longitud de la cadena siendo el primer caracter 0.\n",
        "\n",
        "### Accessing Characters\n",
        "\n",
        "Se puede acceder a cada caracter de una cadena utilizando su indice entre corchetes.\n",
        "\n",
        "Si el numero que se introduce es superior al limite de la cadena da un error."
      ],
      "metadata": {
        "id": "sTPHHzHJL6Yy"
      }
    },
    {
      "cell_type": "code",
      "source": [
        "cadena =  'Cadena aleatoria'\n",
        "\n",
        "first = cadena[0]\n",
        "print(first)\n",
        "\n",
        "space = cadena[6]\n",
        "print(space)\n",
        "\n",
        "end = cadena[len(cadena) - 1]\n",
        "print(end)"
      ],
      "metadata": {
        "id": "wE-UqigrN9Ja"
      },
      "execution_count": null,
      "outputs": []
    },
    {
      "cell_type": "markdown",
      "source": [
        "#### Reverse Indexing\n",
        "\n",
        "Tambien podemos hacer indexacion usando indices negativos.\n",
        "\n",
        "Estos comienzann desde el extremo opuesto de la cadena, es decir, el indice **-1** corresponde al ultimo caracter."
      ],
      "metadata": {
        "id": "duamad1QOhYP"
      }
    },
    {
      "cell_type": "code",
      "source": [
        "cadena = 'Bruce Lee'\n",
        "print(cadena[-1])\n",
        "print(cadena[-5])"
      ],
      "metadata": {
        "id": "ZcomwwnjVOSL"
      },
      "execution_count": null,
      "outputs": []
    },
    {
      "cell_type": "markdown",
      "source": [
        "### String Immutability\n",
        "\n",
        "Una vez que asignamos un valor a una cadena, no podemos actualizarlo mas tarde."
      ],
      "metadata": {
        "id": "J6ajeeolVhQw"
      }
    },
    {
      "cell_type": "code",
      "source": [
        "cadena = 'Inmutable'\n",
        "cadena[0] = 'O'"
      ],
      "metadata": {
        "id": "x2X7HC4vWsB8"
      },
      "execution_count": null,
      "outputs": []
    },
    {
      "cell_type": "markdown",
      "source": [
        "Este TypeError se debe a que Python no permite la asignacion de elementos en el casos de cadenas.\n",
        "\n",
        "Asignar un nuevo valor a la variable no significa que haya cambiado el valor, si no el identificador."
      ],
      "metadata": {
        "id": "-H8QpUCnXCz7"
      }
    },
    {
      "cell_type": "code",
      "source": [
        "str1 = 'hola'\n",
        "print(id(str1))\n",
        "\n",
        "str1 = 'adios'\n",
        "print(id(str1))"
      ],
      "metadata": {
        "id": "C4IB3hkAXcnF"
      },
      "execution_count": null,
      "outputs": []
    },
    {
      "cell_type": "markdown",
      "source": [
        "## The None Keyword\n",
        "\n",
        "### Introduction to NoneType\n",
        "\n",
        "Python ofrece otro tipo de datos llamado **NoneType**. Solo tiene el valor None. Podemos asignar None a cualquier variable."
      ],
      "metadata": {
        "id": "7BHBCO6NXrOp"
      }
    },
    {
      "cell_type": "code",
      "source": [
        "val = None\n",
        "print(val)\n",
        "print (type(val))"
      ],
      "metadata": {
        "id": "J6wtQVkqZO8t"
      },
      "execution_count": null,
      "outputs": []
    },
    {
      "cell_type": "markdown",
      "source": [
        "### Important Points\n",
        "\n",
        "- **None** no es un valor predeterminado.\n",
        "- **None** no es lo mismo que **False**.\n",
        "- **None** no es una cadena vacía.\n",
        "- **None** no es 0.\n",
        "\n",
        "## String Slicing\n",
        "\n",
        "### Definición\n",
        "\n",
        "Slicing es el proceso de obtener una subcadena de una cadena usando sus índices.\n",
        "\n",
        "Podemos usar la siguiente plantilla.\n",
        "\n",
        "```Python\n",
        "string[start:end]\n",
        "```\n",
        "\n",
        "- **Start**: Es el indice desde donde queremos que comience la subcadena.\n",
        "- **End**: Es el indice donde queremos que termine la subcadena.\n",
        "\n",
        "El caracter de **end** no se incluira en la subcadena."
      ],
      "metadata": {
        "id": "u_JpX4KyZedv"
      }
    },
    {
      "cell_type": "code",
      "source": [
        "my_string = '¡Esta es mi cadena!'\n",
        "print(my_string[0:4])\n",
        "print(my_string[1:7])\n",
        "print(my_string[8:len(my_string)])"
      ],
      "metadata": {
        "id": "38j4eLNfexZk"
      },
      "execution_count": null,
      "outputs": []
    },
    {
      "cell_type": "markdown",
      "source": [
        "### Slicing with a Step\n",
        "\n",
        "Python 3 tambien nos permite dividir una cadena definiendo un valor para omitiir caracteres de la cadena.\n",
        "\n",
        "```Python\n",
        "string[start:end:step]\n",
        "```"
      ],
      "metadata": {
        "id": "yKgraCNJfPoa"
      }
    },
    {
      "cell_type": "code",
      "source": [
        "my_string = \"¡Esta es mi cadena!\"\n",
        "print(my_string[0:7])\n",
        "print(my_string[0:7:2])\n",
        "print(my_string[0:7:5])"
      ],
      "metadata": {
        "id": "1ZU_U-8BgaxZ"
      },
      "execution_count": null,
      "outputs": []
    },
    {
      "cell_type": "markdown",
      "source": [
        "### Reverse Slicing\n",
        "\n",
        "Las cadenas tambien se pueden dividir para devolver una subcadena invertida cambiando el orden de start y end y proporcionando un step negativo."
      ],
      "metadata": {
        "id": "XeklaHh3g04x"
      }
    },
    {
      "cell_type": "code",
      "source": [
        "my_string = \"¡Esta es mi cadena!\"\n",
        "print(my_string[11:2:-1])\n",
        "print(my_string[12:0:-2])"
      ],
      "metadata": {
        "id": "Bsz3T6RUhUKF"
      },
      "execution_count": null,
      "outputs": []
    },
    {
      "cell_type": "markdown",
      "source": [
        "### Partial Slicing\n",
        "\n",
        "Los indices **start** y **end** son opcionales."
      ],
      "metadata": {
        "id": "drQG32zDhmUa"
      }
    },
    {
      "cell_type": "code",
      "source": [
        "my_string = \"¡Esta es mi cadena!\"\n",
        "print(my_string[:8])\n",
        "print(my_string[8:])\n",
        "print(my_string[:])\n",
        "print(my_string[::-1])"
      ],
      "metadata": {
        "id": "FTxi3LiKh7Xi"
      },
      "execution_count": null,
      "outputs": []
    },
    {
      "cell_type": "markdown",
      "source": [
        "## String Formatting\n",
        "\n",
        "### ¿Que es?\n",
        "\n",
        "El formato de string signnifica sustituir valores en una cadena.\n",
        "- Insertar cadenas dentro de otra cadena.\n",
        "- Insertar enteros dentro de una cadena.\n",
        "- Insertar float dentro de una cadena.\n",
        "\n",
        "#### Insercion de cadenas."
      ],
      "metadata": {
        "id": "fSLnFLBoiJUP"
      }
    },
    {
      "cell_type": "code",
      "source": [
        "string1 = \"Me gusta %s\" % \"Python\"\n",
        "print(string1) # Me gusta Python\n",
        "\n",
        "temp = \"Baloncesto\"\n",
        "string2 = \"Me gusta el %s\" % temp\n",
        "print(string2) # Me gusta el Baloncesto\n",
        "\n",
        "string3 = \"Me gusta %s y el %s\" % (\"Python\", temp)\n",
        "print(string3)  # Me gusta Python and el Baloncesto"
      ],
      "metadata": {
        "id": "HM_tYXBCi15Q"
      },
      "execution_count": null,
      "outputs": []
    },
    {
      "cell_type": "markdown",
      "source": [
        "El **%s** es el especificador de formato que le dice a Python que debe insertar una cadena en ese lugar.\n",
        "\n",
        "#### Insercion de enteros."
      ],
      "metadata": {
        "id": "NGVqzfkrjaKt"
      }
    },
    {
      "cell_type": "code",
      "source": [
        "my_string = \"%i + %i = %i\" % (1,2,3)\n",
        "print(my_string) # 1 + 2 = 3"
      ],
      "metadata": {
        "id": "3qJAyeBzkInK"
      },
      "execution_count": null,
      "outputs": []
    },
    {
      "cell_type": "markdown",
      "source": [
        "El **%i** es el especificador de formato que le dice a Python que debe insertar un entero en ese lugar.\n",
        "\n",
        "#### Insercion de float."
      ],
      "metadata": {
        "id": "T31dAvNIkJnq"
      }
    },
    {
      "cell_type": "code",
      "source": [
        "string1 = \"%f\" % (1.11)\n",
        "print(string1) # '1.110000'\n",
        "\n",
        "string2 = \"%.2f\" % (1.11)\n",
        "print(string2) # '1.11'\n",
        "\n",
        "string3 = \"%.2f\" % (1.117)\n",
        "print(string3) # '1.12'"
      ],
      "metadata": {
        "id": "1QKEnIyYkpZJ"
      },
      "execution_count": null,
      "outputs": []
    },
    {
      "cell_type": "markdown",
      "source": [
        "El **%f** se usa para sustituir float dentro de una cadena, para limitar la salida a un numero de decimales se usa **%.nf**\n",
        "\n",
        "## Operadores\n",
        "\n",
        "Los operadores se utilizan para realizar operaciones aritmeticas y logicas en los datos.\n",
        "\n",
        "Los 5 principales tipos de ooperadores en Python son:\n",
        "- Operadores aritmeticos.\n",
        "- Operadores de comparacion.\n",
        "- Operadores de asignacion.\n",
        "- Operadores logicos.\n",
        "- Operadores bit a bit."
      ],
      "metadata": {
        "id": "KadLx7LFkyXL"
      }
    },
    {
      "cell_type": "markdown",
      "source": [
        "## Operadores aritmeticos\n",
        "\n",
        "Los operadores aritmeticos basicos en orden de precedencia.\n",
        "\n",
        "| Operador | Objetivo | Notacion |\n",
        "|----------|----------|----------|\n",
        "| () | Parentesis | Encapsula la operación |\n",
        "| ** | Exponente | In-fix|\n",
        "| %, *, /, // | Modulo, Multiplicacion, Division, Floor Division | In-fix |\n",
        "| +, - | Suma, Resta | In-fix |\n",
        "\n",
        "### Suma"
      ],
      "metadata": {
        "id": "L1N2cTGVnVU2"
      }
    },
    {
      "cell_type": "code",
      "source": [
        "print(10 + 5)\n",
        "\n",
        "float1 = 13.65\n",
        "float2 = 3.40\n",
        "print(float1 + float2)\n",
        "\n",
        "num = 20\n",
        "flt = 10.5\n",
        "print(num + flt)"
      ],
      "metadata": {
        "id": "bBfpQwoEpsIj"
      },
      "execution_count": null,
      "outputs": []
    },
    {
      "cell_type": "markdown",
      "source": [
        "### Resta"
      ],
      "metadata": {
        "id": "9e8Tt0B1pv6E"
      }
    },
    {
      "cell_type": "code",
      "source": [
        "print(10 - 5)\n",
        "\n",
        "float1 = -18.678\n",
        "float2 = 3.55\n",
        "print(float1 - float2)\n",
        "\n",
        "num = 20\n",
        "flt = 10.5\n",
        "print(num - flt)"
      ],
      "metadata": {
        "id": "b0-ZrmWip7ZI"
      },
      "execution_count": null,
      "outputs": []
    },
    {
      "cell_type": "markdown",
      "source": [
        "### Multiplicación"
      ],
      "metadata": {
        "id": "5CAt94WyqBDK"
      }
    },
    {
      "cell_type": "code",
      "source": [
        "print(40 * 10)\n",
        "\n",
        "float1 = 5.5\n",
        "float2 = 4.5\n",
        "print(float1 * float2)\n",
        "\n",
        "print(10.2 * 3)"
      ],
      "metadata": {
        "id": "gCJRtgeCqDyz"
      },
      "execution_count": null,
      "outputs": []
    },
    {
      "cell_type": "markdown",
      "source": [
        "### División"
      ],
      "metadata": {
        "id": "Tu6JpgifqHFc"
      }
    },
    {
      "cell_type": "code",
      "source": [
        "print(40 / 10)\n",
        "\n",
        "float1 = 5.5\n",
        "float2 = 4.5\n",
        "print(float1 / float2)\n",
        "print(12.4 / 2)"
      ],
      "metadata": {
        "id": "cdnTqs8dqGo0"
      },
      "execution_count": null,
      "outputs": []
    },
    {
      "cell_type": "markdown",
      "source": [
        "### División floor\n",
        "\n",
        "El resultado se eleva al entero inferior mas cercano.\n",
        "La division de enteros da como resultado un entero."
      ],
      "metadata": {
        "id": "Q-VpVkcuqUjS"
      }
    },
    {
      "cell_type": "code",
      "source": [
        "print(43 // 10)   # Resultado: 4\n",
        "\n",
        "float1 = 5.5\n",
        "float2 = 4.5\n",
        "print(5.5 // 4.5) # Resultado: 1.0\n",
        "print(12.4 // 2)  # Resultado: 6.0"
      ],
      "metadata": {
        "id": "hIj4B6FpqqG0"
      },
      "execution_count": null,
      "outputs": []
    },
    {
      "cell_type": "markdown",
      "source": [
        "### Modulo"
      ],
      "metadata": {
        "id": "8KbxkjQUrLRE"
      }
    },
    {
      "cell_type": "code",
      "source": [
        "print(10 % 2)\n",
        "\n",
        "twenty_eight = 28\n",
        "print(twenty_eight % 10)\n",
        "\n",
        "print(-28 % 10)  # El resto es positivo si el operador de la derecha es positivo\n",
        "print(28 % -10)  # El resto es negativo si el operador de la derecha es negativo\n",
        "print(34.4 % 2.5)  # El resto puede ser un float"
      ],
      "metadata": {
        "id": "TQ5-qKBXrPgO"
      },
      "execution_count": null,
      "outputs": []
    },
    {
      "cell_type": "markdown",
      "source": [
        "### Precedencia\n",
        "Una expresion aritmetica que contenga diferentes operadores se calcula sobre la base de la precedencia del operador."
      ],
      "metadata": {
        "id": "qREKV2TYry7Y"
      }
    },
    {
      "cell_type": "code",
      "source": [
        "# Different precedence\n",
        "print(10 - 3 * 2)  # Multiplication computed first, followed by subtraction\n",
        "\n",
        "# Same precedence\n",
        "print(3 * 20 / 5)  # Multiplication computed first, followed by division\n",
        "print(3 / 20 * 5)  # Division computed first, followed by multiplication"
      ],
      "metadata": {
        "id": "oCQqJNaZsNhV"
      },
      "execution_count": null,
      "outputs": []
    },
    {
      "cell_type": "markdown",
      "source": [
        "### Parentesis\n"
      ],
      "metadata": {
        "id": "vZQbMsI0sQgm"
      }
    },
    {
      "cell_type": "code",
      "source": [
        "print((10 - 3) * 2)  # Subtraction occurs first\n",
        "print((18 + 2) / (10 % 8))"
      ],
      "metadata": {
        "id": "VXJGDIMgsVSE"
      },
      "execution_count": null,
      "outputs": []
    },
    {
      "cell_type": "markdown",
      "source": [
        "## Operadores comparativos\n",
        "\n",
        "Se usan para comparar valores en terminos matematicos.\n",
        "\n",
        "| Operador | Objetivo | Notacion |\n",
        "|----------|----------|----------|\n",
        "| > | Mayor que | In-fix |\n",
        "| < | Menor que | In-fix |\n",
        "| >= | Mayor que o igual a | In-fix |\n",
        "| <= | Menor que o igual a | In-fix |\n",
        "| == | Igual a | In-fix |\n",
        "| != | Distinto a | In-fix |\n",
        "| is | Igual a (Identidad) | In-fix |\n",
        "| is not | Distinto a (Identidad) | In-fix |\n",
        "\n",
        "### COmparaciones\n",
        "\n",
        "El resultado es siempre bool.\n",
        "\n",
        "Si la comparacion es correcta el resultado es True en caso contrario es False.\n",
        "\n",
        "Los operadores == y != comparan los valores de ambos operandos, los operadores de identidad comprueban si los operandos son exactamente el mismo objeto."
      ],
      "metadata": {
        "id": "q5CxXAt1stW_"
      }
    },
    {
      "cell_type": "code",
      "source": [
        "num1 = 5\n",
        "num2 = 10\n",
        "num3 = 10\n",
        "list1 = [6,7,8]\n",
        "list2 = [6,7,8]\n",
        "\n",
        "print(num2 > num1)\n",
        "print(num1 > num2)\n",
        "\n",
        "print(num2 == num3)\n",
        "print(num3 != num1)\n",
        "\n",
        "print(3 + 10 == 5 + 5)\n",
        "print(3 <= 2)\n",
        "\n",
        "print(num2 is not num3)\n",
        "print(list1 is list2)"
      ],
      "metadata": {
        "id": "lG6FvpIKQByi"
      },
      "execution_count": null,
      "outputs": []
    },
    {
      "cell_type": "markdown",
      "source": [
        "## Operadores de Asignación\n",
        "\n",
        "Estos operadores sirven para asignar valores a una variable.\n",
        "\n",
        "| Operador | Objetivo | Notación |\n",
        "|----------|----------|----------|\n",
        "| = | Asignar | In-fix |\n",
        "| += | Agregar y asignar | In-fix |\n",
        "| -= | Restar y asignar | In-fix |\n",
        "| *= | Multiplica y asignar | In-fix |\n",
        "| /= | Dividir y asignar | In-fix |\n",
        "| //= | Dividir, redondear y asignar | In-fix |\n",
        "| **= | Potencia y asignar | In-fix |\n",
        "| %= | Modulo y asignar | In-fix |\n",
        "| \\|= | OR y asignar | In-fix |\n",
        "| &= | AND y asignar | In-fix |\n",
        "| ^= | XOR y asignar | In-fix |\n",
        "| >>= | Desplazar a la derecha y asignar | In-fix |\n",
        "| <<= | Desplazar a la izquierda y asignar | In-fix |"
      ],
      "metadata": {
        "id": "E-7vuWTeQRn3"
      }
    },
    {
      "cell_type": "code",
      "source": [
        "num = 10\n",
        "print(num)\n",
        "\n",
        "num += 5\n",
        "print(num)\n",
        "\n",
        "num -= 5\n",
        "print(num)\n",
        "\n",
        "num *= 2\n",
        "print(num)\n",
        "\n",
        "num /= 2\n",
        "print(num)\n",
        "\n",
        "num = 5\n",
        "num **= 2\n",
        "print(num)\n",
        "\n",
        "num %= 4\n",
        "print(num)\n",
        "\n",
        "num = 5\n",
        "num |= 3\n",
        "print(num)\n",
        "\n",
        "num = 5\n",
        "num &= 8\n",
        "print(num)\n",
        "\n",
        "num = 5\n",
        "num ^= 4\n",
        "print(num)\n",
        "\n",
        "num = 5\n",
        "num >>= 3\n",
        "print(num)\n",
        "\n",
        "num = 5\n",
        "num <<= 4\n",
        "print(num)"
      ],
      "metadata": {
        "id": "Nbh2SI-CTYVJ"
      },
      "execution_count": null,
      "outputs": []
    },
    {
      "cell_type": "markdown",
      "source": [
        "## Operadores logicos\n",
        "\n",
        "Se usan para manipular la logica de las expresiones booleanas.\n",
        "\n",
        "| Operador | Objetivo | Notación |\n",
        "|----------|----------|----------|\n",
        "| and | Y | In-fix |\n",
        "| or | O | In-fix |\n",
        "| not | NO | Prefix |\n",
        "\n",
        "En terminos de bits el valor True vale 1 y  el valor False vale 0."
      ],
      "metadata": {
        "id": "_QvxOn97UngV"
      }
    },
    {
      "cell_type": "code",
      "source": [
        "# OR Expression\n",
        "my_bool = True or False\n",
        "print(my_bool)\n",
        "\n",
        "# AND Expression\n",
        "my_bool = True and False\n",
        "print(my_bool)\n",
        "\n",
        "# NOT expression\n",
        "my_bool = False\n",
        "print(not my_bool)\n",
        "\n",
        "print(10 * True)\n",
        "print(10 * False)"
      ],
      "metadata": {
        "id": "EEfzhKlvVkgy"
      },
      "execution_count": null,
      "outputs": []
    },
    {
      "cell_type": "markdown",
      "source": [
        "## Operadores bit a bit\n",
        "\n",
        "Los operadores bit a bit nos permiten hacer operaciones con los valores en bits.\n",
        "\n",
        "| Operador | Objetivo | Notación |\n",
        "|----------|----------|----------|\n",
        "| & | AND bit a bit | In-fix |\n",
        "| \\| | OR bit a bit | In-fix |\n",
        "| ^ | XOR bit a bit | In-fix |\n",
        "| ~ | NOT bit a bit | Prefix |\n",
        "| << | Desplazar bits a la desrecha | In-fix |\n",
        "| >> | Desplazar bits a la izquierda | In-fix |"
      ],
      "metadata": {
        "id": "AHAF6G3xVlq9"
      }
    },
    {
      "cell_type": "code",
      "source": [
        "num1 = 10  # Binary value = 01010\n",
        "num2 = 20  # Binary Value = 10100\n",
        "\n",
        "print(num1 & num2)   # 0   -> Binary value = 00000\n",
        "print(num1 | num2)   # 30  -> Binary value = 11110\n",
        "print(num1 ^ num2)   # 30  -> Binary value = 11110\n",
        "print(~num1)         # -11 -> Binary value = -(1011)\n",
        "print(num1 << 3)     # 80  -> Binary value = 0101 0000\n",
        "print(num2 >> 3)     # 2   -> Binary value = 0010"
      ],
      "metadata": {
        "id": "E3Ls4MVVYi1k"
      },
      "execution_count": null,
      "outputs": []
    },
    {
      "cell_type": "markdown",
      "source": [
        "## Operaciones con cadenas\n",
        "\n",
        "### Operaciones comparativas\n",
        "\n",
        "Las cadenas son compatibles con los operadores de comparación. Se comparan las cadenas en funcion de su valor unicode."
      ],
      "metadata": {
        "id": "6w7t1dzbfC_e"
      }
    },
    {
      "cell_type": "code",
      "source": [
        "print('a' < 'b')  # 'a' has a smaller Unicode value\n",
        "\n",
        "house = \"Gryffindor\"\n",
        "house_copy = \"Gryffindor\"\n",
        "\n",
        "print(house == house_copy)\n",
        "\n",
        "new_house = \"Slytherin\"\n",
        "\n",
        "print(house == new_house)\n",
        "\n",
        "print(new_house <= house)\n",
        "\n",
        "print(new_house >= house)"
      ],
      "metadata": {
        "id": "zEsQNFXxh_eI"
      },
      "execution_count": null,
      "outputs": []
    },
    {
      "cell_type": "markdown",
      "source": [
        "### COncatenacion\n",
        "\n",
        "El oeprador **+** fusiona dos caracteres.\n",
        "\n",
        "El operador **\\*** nos permite multiplicar la cadena, resultando en un patrin repetitivo."
      ],
      "metadata": {
        "id": "5Os_sSxfiBw9"
      }
    },
    {
      "cell_type": "code",
      "source": [
        "first_half = \"Bat\"\n",
        "second_half = \"man\"\n",
        "\n",
        "full_name = first_half + second_half\n",
        "print(full_name)\n",
        "\n",
        "print(\"ha\" * 3)"
      ],
      "metadata": {
        "id": "0BLAKq3uifAI"
      },
      "execution_count": null,
      "outputs": []
    },
    {
      "cell_type": "markdown",
      "source": [
        "### Buscar\n",
        "\n",
        "La palabra clave **in** se puede verificar si una subcadena existe en una cadena."
      ],
      "metadata": {
        "id": "Eu2jbN7DiijS"
      }
    },
    {
      "cell_type": "code",
      "source": [
        "random_string = \"This is a random string\"\n",
        "\n",
        "print('of' in random_string)  # Check whether 'of' exists in randomString\n",
        "print('random' in random_string)  # 'random' exists!"
      ],
      "metadata": {
        "id": "BovuVLMbi3yk"
      },
      "execution_count": null,
      "outputs": []
    },
    {
      "cell_type": "markdown",
      "source": [
        "## Valores de agrupacion\n",
        "\n",
        "Podemos almacenar multiples valores juntos en una sola variable.\n",
        "\n",
        "### Lista"
      ],
      "metadata": {
        "id": "yltcTU1oi5-H"
      }
    },
    {
      "cell_type": "code",
      "source": [
        "my_list = [1, 2.5, \"A string\", True]\n",
        "print(my_list)\n",
        "\n",
        "print(my_list[2])\n",
        "\n",
        "print(len(my_list))"
      ],
      "metadata": {
        "id": "m8KRK0SEjk01"
      },
      "execution_count": null,
      "outputs": []
    },
    {
      "cell_type": "markdown",
      "source": [
        "## Ejercicio: Fuerza Gravitatoria.\n",
        "\n",
        "La fuerza gravitatoria es la fuerza de atracción que existe entre dos masas. Se puede calcular usando la siguiente fórmula: $\\frac{GMm}{r^2}$ donde G es la constante gravitatoria, M y m son las dos masas y r es la distancia entre ellas.\n",
        "\n",
        "Debes implementar esta ecuación en Python para calcular la fuerza gravitatoria entre la Tierra y la Luna."
      ],
      "metadata": {
        "id": "zpyHDrHZjtuk"
      }
    },
    {
      "cell_type": "code",
      "source": [
        "G = 6.67 * (10 ** -11)\n",
        "M = 6.0 * (10 ** 24)  # Mass of Earth\n",
        "m = 7.34 * (10 ** 22)  # Mass of the moon\n",
        "r = 3.84 * (10 ** 8)\n",
        "\n",
        "grav_force = (G * M * m) / (r ** 2)\n",
        "print(grav_force)"
      ],
      "metadata": {
        "id": "jT1AVvzbkAQ4"
      },
      "execution_count": null,
      "outputs": []
    },
    {
      "cell_type": "markdown",
      "source": [
        "## Declaraciones condicionales\n",
        "\n",
        "### Definicion\n",
        "\n",
        "Una sentencia condicional es una expresion booleana la cual si se cumple ejecuta un frcmento de codigo.\n",
        "Este tipo de sentencias permite que el programa se ramifique en diferentes caminos, controlando el flujo del programa por ello se clasifican como estructuras de control.\n",
        "\n",
        "### Declaraciones condicionales en Python.\n",
        "\n",
        "Python sigue su propio convenio.\n",
        "\n",
        "```Python\n",
        "if declaracion condicional is True:\n",
        "    # execute expression1\n",
        "    pass\n",
        "else:\n",
        "    # execute expression2\n",
        "    pass\n",
        "```\n",
        "\n",
        "Hay tres tipos de sentencias condicionales:\n",
        "\n",
        "- if\n",
        "- if-else\n",
        "- if-elif-else"
      ],
      "metadata": {
        "id": "ImVGXFcWn3Jd"
      }
    },
    {
      "cell_type": "markdown",
      "source": [
        "## La declaracion if\n",
        "\n",
        "### Estructura\n",
        "\n",
        "La declaracion if esta conpuesta por:\n",
        "1. Condicion.\n",
        "2. Codigo a ejecutar.\n",
        "\n",
        "```Python\n",
        "if(condicion):\n",
        "  codigo a ejecutar\n",
        "```\n",
        "\n",
        "Los parentesis son opcionales.\n",
        "\n",
        "#### Sangría\n",
        "\n",
        "La sangria en Python son de gran importancia.Las declaraciones con el mismo nivel de sangria pertenecen al mismo bloque de codigo.\n",
        "\n",
        "### El flujo de una declaracion if\n",
        "\n",
        "Si la condicion se cumple (True), se ejecuta el codigo. De lo contrario, salta y sigue adelante."
      ],
      "metadata": {
        "id": "Os9F4yZrqONw"
      }
    },
    {
      "cell_type": "code",
      "source": [
        "num = 5\n",
        "\n",
        "if (num == 5):  # The condition is true\n",
        "    print(\"The number is equal to 5\")  # The code is executed\n",
        "\n",
        "if num > 5:  # The condtion is false\n",
        "    print(\"The number is greater than 5\")  # The code is not executed"
      ],
      "metadata": {
        "id": "z3D2JmmUs0eh"
      },
      "execution_count": null,
      "outputs": []
    },
    {
      "cell_type": "markdown",
      "source": [
        "### Condiciones con operadores logicos\n",
        "\n",
        "Podemos usar operadores logicos en la condicion de un if."
      ],
      "metadata": {
        "id": "gGLG4RpVs2TM"
      }
    },
    {
      "cell_type": "code",
      "source": [
        "num = 12\n",
        "\n",
        "if num % 2 == 0 and num % 3 == 0 and num % 4 == 0:\n",
        "    # Only works when num is a multiple of 2, 3, and 4\n",
        "    print(\"The number is a multiple of 2, 3, and 4\")\n",
        "\n",
        "if (num % 5 == 0 or num % 6 == 0):\n",
        "    # Only works when num is either a multiple of 5 or 6\n",
        "    print(\"The number is a multiple of 5 and/or 6\")"
      ],
      "metadata": {
        "id": "DJeNk1yepFwb"
      },
      "execution_count": null,
      "outputs": []
    },
    {
      "cell_type": "markdown",
      "source": [
        "### Declaraciones anidadas\n",
        "\n",
        "Las declaraciones anidadas requieren una sangria adicional."
      ],
      "metadata": {
        "id": "z7JhZvTdtPV8"
      }
    },
    {
      "cell_type": "code",
      "source": [
        "num = 63\n",
        "\n",
        "if num >= 0 and num <= 100:\n",
        "    if num >= 50 and num <= 75:\n",
        "        if num >= 60 and num <= 70:\n",
        "            print(\"The number is in the 60-70 range\")"
      ],
      "metadata": {
        "id": "G7SJuqJst_A8"
      },
      "execution_count": null,
      "outputs": []
    },
    {
      "cell_type": "markdown",
      "source": [
        "### Creacion y edicion de valores\n",
        "\n",
        "En una declaracion condicional podemos variar lo valores de nuestras variables ademas de crear nuevas."
      ],
      "metadata": {
        "id": "vLYtFn15uiPB"
      }
    },
    {
      "cell_type": "code",
      "source": [
        "num = 10\n",
        "if num > 5:\n",
        "    num = 20  # Assigning a new value to num\n",
        "    new_num = num * 5  # Creating a new value called newNum\n",
        "\n",
        "# The if condition ends, but the changes made inside it remain\n",
        "print(num)\n",
        "print(new_num)"
      ],
      "metadata": {
        "id": "5rVF5AzYuhQ-"
      },
      "execution_count": null,
      "outputs": []
    },
    {
      "cell_type": "markdown",
      "source": [
        "## Sentencia if-else\n",
        "\n",
        "Tiene la mismo funcion que la sentencia **if**, pero en este caso si la sentencia es False se ejecuta un codigo alternativo el cual esta dentro del else.\n",
        "\n",
        "### Estructura\n",
        "\n",
        "```Python\n",
        "if (condicion):\n",
        "  codigo ejecutable\n",
        "else:\n",
        "  codigo ejecutable\n",
        "```"
      ],
      "metadata": {
        "id": "SH_Pl6KWEuS9"
      }
    },
    {
      "cell_type": "code",
      "source": [
        "num = 60\n",
        "\n",
        "if num <= 50:\n",
        "    print(\"The number is less than or equal to 50\")\n",
        "else:\n",
        "    print(\"The number is greater than 50\")"
      ],
      "metadata": {
        "id": "067xzk7PfxEg"
      },
      "execution_count": null,
      "outputs": []
    },
    {
      "cell_type": "markdown",
      "source": [
        "### Beneficios de if-else\n",
        "\n",
        "El ejemplo anterior tambien se podria hacer con dos sentencias if, pero en caso de condiciones muy complejas el uso de if-else es mejor devido a que represente lo apuesto a la condicion.\n",
        "\n",
        "### Expresiones condicionales\n",
        "\n",
        "Esta expresion utiliza la funcionalidad del if-else para devolver una salida basada en la condicion que proporcionamos.\n",
        "\n",
        "#### Estructura\n",
        "\n",
        "```Python\n",
        "output_value1 if condition else output_value2\n",
        "```"
      ],
      "metadata": {
        "id": "ee8mgMPLfz97"
      }
    },
    {
      "cell_type": "code",
      "source": [
        "num = 60\n",
        "\n",
        "output = \"The number is less than or equal to 50\" \\\n",
        "    if num <= 50 else \"The number is greater than 50\"\n",
        "\n",
        "print(output)"
      ],
      "metadata": {
        "id": "aSCOoRIfiPHV"
      },
      "execution_count": null,
      "outputs": []
    },
    {
      "cell_type": "markdown",
      "source": [
        "## Sentencia if-elif-else\n",
        "\n",
        "Esta sentencia nos permite crear multiples condiciones facilmente.\n",
        "\n",
        "### Estructura\n",
        "\n",
        "```Python\n",
        "if (condicion1):\n",
        "  codigo ejecutable\n",
        "elif (condicion2):\n",
        "  codigo ejecutable\n",
        "else:\n",
        "  codigo ejecutable\n",
        "```"
      ],
      "metadata": {
        "id": "qz-xX3NKiR5D"
      }
    },
    {
      "cell_type": "code",
      "source": [
        "light = \"Red\"\n",
        "\n",
        "if light == \"Green\":\n",
        "    print(\"Go\")\n",
        "\n",
        "elif light == \"Yellow\":\n",
        "    print(\"Caution\")\n",
        "\n",
        "elif light == \"Red\":\n",
        "    print(\"Stop\")\n",
        "\n",
        "else:\n",
        "    print(\"Incorrect light signal\")"
      ],
      "metadata": {
        "id": "AzzJTCS7kJSh"
      },
      "execution_count": null,
      "outputs": []
    },
    {
      "cell_type": "markdown",
      "source": [
        "### Declaraciones multiples de elif\n",
        "\n",
        "Esta sentencia nos permite tener tantos **elif** conmo necesitemos mientras estemos dentro de if y else."
      ],
      "metadata": {
        "id": "QXX-iZCKkb7O"
      }
    },
    {
      "cell_type": "code",
      "source": [
        "num = 5\n",
        "\n",
        "if num == 0:\n",
        "    print(\"Zero\")\n",
        "elif num == 1:\n",
        "    print(\"One\")\n",
        "elif num == 2:\n",
        "    print(\"Two\")\n",
        "elif num == 3:\n",
        "    print(\"Three\")\n",
        "elif num == 4:\n",
        "    print(\"Four\")\n",
        "elif num == 5:\n",
        "    print(\"Five\")\n",
        "elif num == 6:\n",
        "    print(\"Six\")\n",
        "elif num == 7:\n",
        "    print(\"Seven\")\n",
        "elif num == 8:\n",
        "    print(\"Eight\")\n",
        "elif num == 9:\n",
        "    print(\"Nine\")"
      ],
      "metadata": {
        "id": "p4V4Uln7kwDs"
      },
      "execution_count": null,
      "outputs": []
    },
    {
      "cell_type": "markdown",
      "source": [
        "## Ejercicio: Precio Rebajado\n",
        "\n",
        "Debes descontar un precio de acuerdo a su valor.\n",
        "\n",
        "- Si el precio es 300o superior, habrá un 30%descuento.\n",
        "- Si el precio está entre 200y 300( 200inclusive), habrá 20%descuento.\n",
        "- Si el precio está entre 100y 200( 100inclusive), habrá 10%descuento.\n",
        "- Si el precio es inferior a 100, habrá un 5%descuento.\n",
        "- Si el precio es negativo, no habrá descuento."
      ],
      "metadata": {
        "id": "D3OgFCB1lxEC"
      }
    },
    {
      "cell_type": "code",
      "source": [
        "price = 250\n",
        "\n",
        "if price >= 300:\n",
        "    price *= 0.7\n",
        "elif price >= 200:\n",
        "    price *= 0.8\n",
        "elif price >= 100:\n",
        "    price *= 0.9\n",
        "elif price >= 0:\n",
        "    price *= 0.95\n",
        "else:\n",
        "    price *= 1\n",
        "\n",
        "print(price)"
      ],
      "metadata": {
        "colab": {
          "base_uri": "https://localhost:8080/"
        },
        "id": "ZNCdI8CFnydE",
        "outputId": "eb53c320-ebf9-4507-9a7b-518f2ccc8d0b"
      },
      "execution_count": 4,
      "outputs": [
        {
          "output_type": "stream",
          "name": "stdout",
          "text": [
            "200.0\n"
          ]
        }
      ]
    }
  ]
}